{
 "cells": [
  {
   "cell_type": "markdown",
   "metadata": {},
   "source": [
    "# The Temperature Chronicles: A Tale of Two Thermometers\n",
    "\n",
    "In the final days before Earth's great catastrophe, Emma and Jack shared an oddly specific hobby: recording temperatures outside their cottage every day at noon. Emma, devoted to her grandmother's Celsius thermometer, and Jack, loyal to his antique Fahrenheit device, kept meticulous daily records, each in their own journal.\n",
    "\n",
    "When an asteroid struck in 2525, most of human knowledge was lost to time, including the relationship between temperature scales. Three thousand years later, Dr. Lyra, an archaeologist from Andromeda, discovered their perfectly preserved logs in a radiation-proof vault. Five years of parallel temperature readings, two different scales, and one fascinating puzzle.\n",
    "\n",
    "Despite the slight noise in their measurements (their thermometers weren't perfect, after all), Dr. Lyra suspected a linear relationship between these ancient scales. Join us as we use deep learning to uncover this lost piece of human knowledge!"
   ]
  },
  {
   "cell_type": "code",
   "metadata": {
    "jupyter": {
     "is_executing": true
    }
   },
   "source": [
    "# import necessary libraries\n",
    "# *NOTE*: tensorweaver is compatible with pytorch API, so you can use it as a drop-in replacement for pytorch\n",
    "import tensorweaver as torch\n",
    "import matplotlib.pyplot as plt\n",
    "\n",
    "# import our lovely dataset\n",
    "from tensorweaver.toy_datasets.get_celsius_fahrenheit_dataset import (\n",
    "    get_celsius_fahrenheit_dataset,\n",
    ")"
   ],
   "outputs": [],
   "execution_count": null
  },
  {
   "cell_type": "code",
   "metadata": {},
   "source": [
    "# load the dataset\n",
    "x_array, y_array = get_celsius_fahrenheit_dataset()\n",
    "\n",
    "\n",
    "# plot the dataset\n",
    "plt.scatter(x_array, y_array, color='blue', marker=\"o\")\n",
    "plt.title(\"Temperature relationship\")\n",
    "plt.xlabel(\"Celsius\")\n",
    "plt.ylabel(\"Fahrenheit\")\n",
    "plt.show()"
   ],
   "outputs": [],
   "execution_count": null
  },
  {
   "cell_type": "code",
   "metadata": {},
   "source": [
    "# define our model, a simple linear regression model\n",
    "class LinearRegressionModel(torch.nn.Module):\n",
    "\n",
    "    def __init__(self):\n",
    "        super(LinearRegressionModel, self).__init__()\n",
    "        self.linear = torch.nn.Linear(1, 1)  # One in and one out\n",
    "\n",
    "    def forward(self, x):\n",
    "        y_pred = self.linear(x)\n",
    "        return y_pred\n",
    "\n",
    "\n",
    "# create our model\n",
    "our_model = LinearRegressionModel()\n",
    "\n",
    "# convert the dataset to tensors\n",
    "x = torch.tensor(x_array)  # temperature in celsius\n",
    "y = torch.tensor(y_array)  # temperature in fahrenheit\n",
    "\n",
    "# define our loss function and optimizer\n",
    "criterion = torch.nn.MSELoss()\n",
    "optimizer = torch.optim.SGD(our_model.parameters(), lr=0.0015)\n",
    "\n",
    "# train our model\n",
    "loss_path = []\n",
    "\n",
    "for epoch in range(10000):\n",
    "    # Forward pass: Compute predicted y by passing\n",
    "    # x to the model\n",
    "    pred_y = our_model(x)\n",
    "\n",
    "    # Compute and print loss\n",
    "    loss = criterion(pred_y, y)\n",
    "\n",
    "    # Zero gradients, perform a backward pass,\n",
    "    # and update the weights.\n",
    "    optimizer.zero_grad()\n",
    "    loss_path.append(loss.item())\n",
    "    loss.backward()\n",
    "    optimizer.step()\n",
    "\n",
    "    if epoch % 1000 == 0:\n",
    "        print('epoch {}, loss {}'.format(epoch, loss.item()))"
   ],
   "outputs": [],
   "execution_count": null
  },
  {
   "cell_type": "code",
   "metadata": {},
   "source": [
    "# It's time to see the results!\n",
    "print(\"Ground true relationship: °F = 1.8*°C + 32\")\n",
    "print(f\"Our model: °F = {our_model.linear.weight.item():.4f}*°C + {our_model.linear.bias_weight.item():.4f}\")"
   ],
   "outputs": [],
   "execution_count": null
  },
  {
   "cell_type": "code",
   "metadata": {},
   "source": [
    "# plot the loss path, to see how the model is learning\n",
    "plt.plot(loss_path)\n",
    "plt.title(\"Loss changes during training\")\n",
    "plt.xlabel(\"Epoch\")\n",
    "plt.ylabel(\"Loss\")\n",
    "plt.show()"
   ],
   "outputs": [],
   "execution_count": null
  },
  {
   "cell_type": "code",
   "metadata": {},
   "source": [
    "# plot the data with the model prediction line\n",
    "plt.scatter(x_array, y_array, color='blue', marker=\"o\")\n",
    "plt.plot(x_array, our_model(x).numpy(), color='yellow')\n",
    "plt.title(\"Temperature relationship\")\n",
    "plt.xlabel(\"Celsius\")\n",
    "plt.ylabel(\"Fahrenheit\")\n",
    "plt.show()"
   ],
   "outputs": [],
   "execution_count": null
  },
  {
   "cell_type": "markdown",
   "metadata": {},
   "source": [
    "# The Results: A Remarkable Discovery\n",
    "\n",
    "After running her neural network through thousands of iterations, Dr. Lyra's eyes widened with excitement. The relationship she discovered was astonishingly close to the original Celsius-to-Fahrenheit conversion formula that humanity had lost:\n",
    "\n",
    "Her model suggested: °F = 1.8017*°C + 31.8789\n",
    "The actual historical formula was: °F = 1.8*°C + 32\n",
    "\n",
    "The accuracy was remarkable - the neural network had rediscovered the lost mathematical relationship with an error of less than 0.4%! Dr. Lyra couldn't help but smile, thinking about Emma and Jack's meticulous daily recordings that had preserved this crucial piece of human knowledge through millennia.\n",
    "\n",
    "This simple yet elegant demonstration shows us how neural networks can learn patterns from data, and more importantly, how we can understand their inner workings step by step. Just as Emma and Jack's temperature recordings bridged different measurement systems, TensorWeaver helps bridge the gap between complex deep learning concepts and our understanding of them."
   ]
  }
 ],
 "metadata": {
  "kernelspec": {
   "display_name": "tensorweaver-l0yEMTWK-py3.11",
   "language": "python",
   "name": "python3"
  },
  "language_info": {
   "codemirror_mode": {
    "name": "ipython",
    "version": 3
   },
   "file_extension": ".py",
   "mimetype": "text/x-python",
   "name": "python",
   "nbconvert_exporter": "python",
   "pygments_lexer": "ipython3",
   "version": "3.11.11"
  }
 },
 "nbformat": 4,
 "nbformat_minor": 2
}
